{
 "cells": [
  {
   "cell_type": "code",
   "execution_count": 1,
   "metadata": {},
   "outputs": [],
   "source": [
    "from fastapi.testclient import TestClient\n",
    "from main import app"
   ]
  },
  {
   "cell_type": "code",
   "execution_count": 6,
   "metadata": {},
   "outputs": [],
   "source": [
    "client = TestClient(app)\n",
    "\n",
    "peticion = {\n",
    "    \"id_user\": '+12345678',\n",
    "    \"sms_user\": 'Hola'\n",
    "}\n",
    "\n",
    "headers = {\n",
    "    \"api-key-auth\": 'chat1234'\n",
    "}\n",
    "\n",
    "def test_analizar():\n",
    "    response = client.post(\"/chatboot\", json=peticion, headers=headers)\n",
    "    assert response.status_code == 200\n",
    "    data = response.json()\n",
    "    assert \"sms_asistant\" in data\n",
    "    print(\"Resultado de la API:\\n\", data)"
   ]
  },
  {
   "cell_type": "code",
   "execution_count": 7,
   "metadata": {},
   "outputs": [
    {
     "name": "stdout",
     "output_type": "stream",
     "text": [
      "Resultado de la API:\n",
      " {'sms_asistant': 'Necesito la URL donde se puede ver tu CV, por favor.\\n'}\n"
     ]
    }
   ],
   "source": [
    "test_analizar()"
   ]
  },
  {
   "cell_type": "code",
   "execution_count": null,
   "metadata": {},
   "outputs": [],
   "source": []
  }
 ],
 "metadata": {
  "kernelspec": {
   "display_name": "agent_env",
   "language": "python",
   "name": "python3"
  },
  "language_info": {
   "codemirror_mode": {
    "name": "ipython",
    "version": 3
   },
   "file_extension": ".py",
   "mimetype": "text/x-python",
   "name": "python",
   "nbconvert_exporter": "python",
   "pygments_lexer": "ipython3",
   "version": "3.10.5"
  }
 },
 "nbformat": 4,
 "nbformat_minor": 2
}
